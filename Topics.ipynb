{
 "cells": [
  {
   "cell_type": "markdown",
   "metadata": {},
   "source": [
    "# Выделение тем - Камиль Талипов, 294"
   ]
  },
  {
   "cell_type": "markdown",
   "metadata": {},
   "source": [
    "### LDA на Википедии"
   ]
  },
  {
   "cell_type": "code",
   "execution_count": 1,
   "metadata": {
    "collapsed": true
   },
   "outputs": [],
   "source": [
    "import numpy as np\n",
    "import gensim"
   ]
  },
  {
   "cell_type": "markdown",
   "metadata": {},
   "source": [
    "Сконвертируем дамп википедии"
   ]
  },
  {
   "cell_type": "code",
   "execution_count": 2,
   "metadata": {
    "collapsed": true
   },
   "outputs": [],
   "source": [
    "%%bash\n",
    "python -m gensim.scripts.make_wiki frwiki-20151202-pages-articles.xml.bz2 wiki_en_output"
   ]
  },
  {
   "cell_type": "markdown",
   "metadata": {},
   "source": [
    "Обучим lda"
   ]
  },
  {
   "cell_type": "code",
   "execution_count": 3,
   "metadata": {
    "collapsed": true
   },
   "outputs": [],
   "source": [
    "id2word = gensim.corpora.Dictionary.load_from_text('wiki_en_output_wordids.txt')\n",
    "mm = gensim.corpora.MmCorpus('wiki_en_output_tfidf.mm')\n",
    "model = gensim.models.ldamodel.LdaModel(corpus=mm, id2word=id2word,\n",
    "                                        num_topics=100, update_every=1,\n",
    "                                        chunksize=10000, passes=1)\n",
    "model.save('wiki_lda.pkl')"
   ]
  },
  {
   "cell_type": "markdown",
   "metadata": {
    "collapsed": true
   },
   "source": [
    "Посмотрим полученные темы"
   ]
  },
  {
   "cell_type": "code",
   "execution_count": 4,
   "metadata": {
    "collapsed": false
   },
   "outputs": [
    {
     "data": {
      "text/plain": [
       "[(u'mesa', 0.091435903139672786),\n",
       " (u'wta', 0.048343483763978227),\n",
       " (u'inde', 0.03505429249916206),\n",
       " (u'indien', 0.021937466834919761),\n",
       " (u'ha\\xefti', 0.016469230400395156),\n",
       " (u'litom\\u011b\\u0159ice', 0.015340198468797712),\n",
       " (u'sri', 0.013221911233841754),\n",
       " (u'indienne', 0.012911694302291244),\n",
       " (u'philippin', 0.011854186555764036),\n",
       " (u'lanka', 0.011731928916426626)]"
      ]
     },
     "execution_count": 4,
     "metadata": {},
     "output_type": "execute_result"
    }
   ],
   "source": [
    "model.show_topic(99)"
   ]
  },
  {
   "cell_type": "code",
   "execution_count": 5,
   "metadata": {
    "collapsed": false
   },
   "outputs": [
    {
     "data": {
      "text/plain": [
       "[(u'orchestre', 0.020230811416973832),\n",
       " (u'compositeur', 0.019726689014113279),\n",
       " (u'musique', 0.019008675927580914),\n",
       " (u'op\\xe9ra', 0.01265715301826735),\n",
       " (u'piano', 0.012491334974749227),\n",
       " (u'conservatoire', 0.0072216815558275842),\n",
       " (u'op', 0.0071809523444280538),\n",
       " (u'classique', 0.0070684881445231187),\n",
       " (u'violon', 0.0067371126627431919),\n",
       " (u'pianiste', 0.0064060435131954342)]"
      ]
     },
     "execution_count": 5,
     "metadata": {},
     "output_type": "execute_result"
    }
   ],
   "source": [
    "model.show_topic(15)"
   ]
  },
  {
   "cell_type": "code",
   "execution_count": 6,
   "metadata": {
    "collapsed": false
   },
   "outputs": [
    {
     "data": {
      "text/plain": [
       "[(u'estonie', 0.030783720653652084),\n",
       " (u'sauriens', 0.026252205772809605),\n",
       " (u'estonien', 0.020475170084009845),\n",
       " (u'tallinn', 0.018723750611277894),\n",
       " (u'squamata', 0.016204067251731645),\n",
       " (u'serpents', 0.014353648258553224),\n",
       " (u'serpent', 0.01399461533409687),\n",
       " (u'avex', 0.012898223750635131),\n",
       " (u'liolaemidae', 0.011953788568685054),\n",
       " (u'sevens', 0.011639298376036566)]"
      ]
     },
     "execution_count": 6,
     "metadata": {},
     "output_type": "execute_result"
    }
   ],
   "source": [
    "model.show_topic(60)"
   ]
  },
  {
   "cell_type": "markdown",
   "metadata": {},
   "source": [
    "Видно, что первые представители класса очень хорошо связаны логически, а в классе 15 - все совсем хорошо. Учитывая, что мы разбивали всего на 100 классов - это хороший результат."
   ]
  },
  {
   "cell_type": "markdown",
   "metadata": {},
   "source": [
    "Обучим модель на 1500 классов"
   ]
  },
  {
   "cell_type": "code",
   "execution_count": 2,
   "metadata": {
    "collapsed": true
   },
   "outputs": [],
   "source": [
    "model = gensim.models.ldamodel.LdaModel(\n",
    "          corpus=mm,\n",
    "          id2word=id2word,\n",
    "          num_topics=1500,\n",
    "          update_every=1,\n",
    "          chunksize=10000,\n",
    "          passes=1)\n",
    "model.save('wiki_lda_big.pkl')"
   ]
  },
  {
   "cell_type": "markdown",
   "metadata": {},
   "source": [
    "Посмотрим отличия в  моделях"
   ]
  },
  {
   "cell_type": "code",
   "execution_count": 3,
   "metadata": {
    "collapsed": false
   },
   "outputs": [
    {
     "name": "stdout",
     "output_type": "stream",
     "text": [
      "1500 model:\n",
      "12.922952169\n",
      "0.304787707929\n",
      "100 model:\n",
      "7.18414104802\n",
      "0.88266542455\n"
     ]
    }
   ],
   "source": [
    "def print_doc_stat(model):\n",
    "    topics = [model[doc] for doc in mm]\n",
    "    lens = np.array([len(t) for t in topics])\n",
    "    print np.mean(lens)\n",
    "    print np.mean(lens <= 10)\n",
    "\n",
    "print '1500 model:'\n",
    "print_doc_stat(model)\n",
    "\n",
    "print '100 model:'\n",
    "print_doc_stat(gensim.models.ldamodel.LdaModel.load('wiki_lda.pkl'))"
   ]
  },
  {
   "cell_type": "markdown",
   "metadata": {},
   "source": [
    "Таким образом при выделении 1500 тем в среднее количество тем на документ чуть меньше 13, а 30% документов имеют меньше 10 тем. При выделении 100 тем на документ приходится чуть больше 7 тем и более 88% документов имеют меньше 10 тем. Т"
   ]
  },
  {
   "cell_type": "markdown",
   "metadata": {},
   "source": [
    "Посмотрим случайные 20 тем"
   ]
  },
  {
   "cell_type": "code",
   "execution_count": 4,
   "metadata": {
    "collapsed": false
   },
   "outputs": [
    {
     "name": "stdout",
     "output_type": "stream",
     "text": [
      "Topic #1432\n",
      "[(u'dipl\\xf4m\\xe9e', 0.038199690496365228), (u'pauline', 0.03056333005274333), (u'monique', 0.023516540523947603), (u'laur\\xe9ate', 0.023136796921884063), (u'audrey', 0.019992752491187354), (u'sophie', 0.018247619106246241), (u'c\\xe9line', 0.017478963163831397), (u'ir\\xe8ne', 0.016263921955023651), (u'fabienne', 0.015163514378865465), (u'brook', 0.013876675678359877)]\n",
      "Topic #0\n",
      "[(u'picasso', 0.036438123655694619), (u'gogh', 0.031330938215407923), (u'pablo', 0.030045874362592945), (u'fernand', 0.026912442188809001), (u'oskar', 0.022123907301451889), (u'abstrait', 0.021686066603253142), (u'arte', 0.021398123202320703), (u'matisse', 0.019281029325663144), (u'andy', 0.018806184606631502), (u'grange', 0.018699335903965032)]\n",
      "Topic #779\n",
      "[(u'catholic', 0.17632260255558355), (u'thorpe', 0.086256349791197201), (u'viiie', 0.071419780819725762), (u'somerset', 0.063873671529029535), (u'encyclopedia', 0.059129599760745701), (u'aveugles', 0.030707946211204963), (u'intendant', 0.029977866987235369), (u'christiana', 0.028288536406561371), (u'bossu', 0.028187295681142099), (u'miquel', 0.025817368425812268)]\n",
      "Topic #1296\n",
      "[(u'mcdonald', 0.075976152785095522), (u'sala', 0.069629123246221808), (u'beth', 0.068001717495368444), (u'lane', 0.066188403161421952), (u'matthieu', 0.056201256607994632), (u'paysanne', 0.041912270442585629), (u'arboretum', 0.040785978386903732), (u'gibbons', 0.037811719986964823), (u'jody', 0.036275940247778582), (u'third', 0.036025887425265489)]\n",
      "Topic #20\n",
      "[(u'robot', 0.12516338452569584), (u'gov', 0.099934629491896701), (u'model', 0.084665023747930571), (u'robots', 0.065873154084215665), (u'ramsar', 0.055391793571044685), (u'candide', 0.042239736405875687), (u'ee', 0.039187965144029432), (u'process', 0.032710116418578572), (u'curl', 0.027290022181878253), (u'robotique', 0.026985956020214953)]\n",
      "Topic #1012\n",
      "[(u'tokyo', 0.085624073334594611), (u'osaka', 0.079861629124257053), (u'nakamura', 0.068631722470050074), (u'japon', 0.066217216504635551), (u'japonais', 0.058260308769187384), (u'japan', 0.051737699911384764), (u'japonaise', 0.027371675900437927), (u'yokohama', 0.02621908542303519), (u'hiroshima', 0.024046710590943467), (u'pr\\xe9fecture', 0.023686788908425419)]\n",
      "Topic #1436\n",
      "[(u'monnaie', 0.076951718241963091), (u'euro', 0.036383466346339183), (u'billet', 0.036154777719243789), (u'pi\\xe8ces', 0.035062447549762239), (u'monnaies', 0.030895559390147494), (u'billets', 0.030819956939682217), (u'sterling', 0.02192170520301313), (u'francs', 0.02126161048543854), (u'dollar', 0.020960856268291132), (u'pi\\xe8ce', 0.020195191699366285)]\n",
      "Topic #469\n",
      "[(u'\\xe9thiopie', 0.064339582667668677), (u'\\xe9thiopien', 0.037434873559432529), (u'sharks', 0.035777279876473521), (u'carroll', 0.034833576182685413), (u'today', 0.028884360378027649), (u'\\xe9thiopienne', 0.027021526328558466), (u'addis', 0.026529828420667496), (u'abeba', 0.025932890875973183), (u'ryder', 0.022096460565658334), (u'coffee', 0.021454236948756082)]\n",
      "Topic #965\n",
      "[(u'bull', 0.048534125214615163), (u'languages', 0.046880456156737221), (u'nuevo', 0.042260434405412522), (u'libertad', 0.041573240631518411), (u'crist\\xf3bal', 0.036708438552346373), (u'linguistic', 0.032494995963628273), (u'm\\xe9xico', 0.028754237139608878), (u'petersburg', 0.028549501496953938), (u'english', 0.02710524257012896), (u'pinar', 0.02530112076739956)]\n",
      "Topic #1083\n",
      "[(u'monument', 0.18021393318811796), (u'monuments', 0.14291411234459617), (u'historiques', 0.12857580131318075), (u'inscrit', 0.072418752123115646), (u'localisation', 0.050540211276464894), (u'\\xe9glise', 0.04142568574579341), (u'd\\xe9partement', 0.030077175010192823), (u'objet', 0.019991455243200951), (u'inscrite', 0.019742613263143485), (u'maison', 0.017333346246559786)]\n",
      "Topic #685\n",
      "[(u'bailli', 0.092758130346647261), (u'figurera', 0.064208166064376793), (u'baillis', 0.059836913060867185), (u'\\xe9cuyer', 0.048633273007724048), (u'm\\xe1s', 0.04813704407892027), (u'sieur', 0.045542265890335831), (u'jeannette', 0.045063692465034222), (u'canard', 0.042547601195880219), (u'mexicana', 0.035284572379912581), (u'cherif', 0.034682430406256605)]\n",
      "Topic #17\n",
      "[(u'sovi\\xe9tique', 0.051702470234884147), (u'urss', 0.02708124600207714), (u'russe', 0.022471300209699459), (u'moscou', 0.021235227560459563), (u'sovi\\xe9tiques', 0.013886371560884398), (u'russie', 0.01299492359112746), (u'union', 0.011920197615818504), (u'staline', 0.010226491563805841), (u'l\\xe9nine', 0.0086882569776062773), (u'grigori', 0.0067632769327543394)]\n",
      "Topic #456\n",
      "[(u'championnats', 0.042308514863472729), (u'athl\\xe8te', 0.039978386749342759), (u'saut', 0.019758541916563621), (u'athl\\xe9tisme', 0.019640040500503369), (u'\\xe9preuve', 0.019320515666484239), (u'm\\xe8tres', 0.016870287145512416), (u'jeux', 0.015850651785352304), (u'records', 0.015251450324666059), (u'performance', 0.014938063113109827), (u'palmar\\xe8s', 0.013751193062068286)]\n",
      "Topic #202\n",
      "[(u'can', 0.023414324407673808), (u'you', 0.022774405002345344), (u'is', 0.017590940401076692), (u'now', 0.015797841833988711), (u'be', 0.015746679894143932), (u'it', 0.01362709457329056), (u'this', 0.013504793377180259), (u'when', 0.012807501272241235), (u'know', 0.012707604967040362), (u'that', 0.012646973269152593)]\n",
      "Topic #54\n",
      "[(u'financ\\xe9', 0.045065811618973599), (u'lyman', 0.042020868519933093), (u'marley', 0.037257063112543995), (u'dons', 0.029014423625910342), (u'\\xf6stersund', 0.027805641529799672), (u'dotation', 0.026527942737112963), (u'promeut', 0.024347437898446407), (u'hiram', 0.021043649656353587), (u'stijn', 0.020697076033378947), (u'affairs', 0.019636197998846056)]\n",
      "Topic #644\n",
      "[(u'arkansas', 0.24132196774085654), (u'little', 0.10545213934525527), (u'chopin', 0.066747699490738513), (u'd\\xe9m\\xe9nage', 0.065008572781998827), (u'lamy', 0.04310924358818876), (u'schumann', 0.030851344868896662), (u'chapuis', 0.026236376015910782), (u'taverne', 0.025990215680733286), (u'rock', 0.023168854915352893), (u'faur\\xe9', 0.018215280192651558)]\n",
      "Topic #741\n",
      "[(u'robinson', 0.12868051055728114), (u'n\\xe9ant', 0.090073026339395332), (u'betsy', 0.042080172223562216), (u'goutte', 0.038928872081819429), (u'h\\xe9lier', 0.032163040441232103), (u'southwestern', 0.025768662355880659), (u'lagny', 0.023157078295494328), (u'roscoe', 0.022982754085059499), (u'\\xe9g\\xe9rie', 0.022874119081238542), (u'kriss', 0.021937998220152209)]\n",
      "Topic #35\n",
      "[(u'\\xe9lectricit\\xe9', 0.032048302266667057), (u'd\\xe9charge', 0.028563432229129732), (u'\\xe9nergie', 0.027309251563022684), (u'\\xe9lectrique', 0.020473783536371516), (u'centrale', 0.013909218622182747), (u'\\xe9nerg\\xe9tique', 0.013659120093561855), (u'solaire', 0.010859101196365732), (u'puissance', 0.010278942666277453), (u'\\xe9lectriques', 0.010178753534758443), (u'centrales', 0.0088513642337083847)]\n",
      "Topic #403\n",
      "[(u'saxe', 0.096006748864549782), (u'holstein', 0.072679601546635692), (u'anhalt', 0.063336563219493602), (u'schleswig', 0.051786496570612635), (u'hambourg', 0.033505131233138211), (u'basse', 0.033298382730616471), (u'land', 0.031859049030135117), (u'hanovre', 0.028592413024668761), (u'arrondissement', 0.025524706029195026), (u'br\\xeame', 0.021311915358590391)]\n",
      "Topic #907\n",
      "[(u'andrea', 0.07978374290576469), (u'matteo', 0.035472539733199464), (u'filippo', 0.035348882497125429), (u'luca', 0.03339465504436661), (u'piero', 0.031676604531606277), (u'raphael', 0.02056317107770252), (u'francesca', 0.019679037429592743), (u'vinci', 0.018909900451353778), (u'l\\xe9onard', 0.018861272663966398), (u'degli', 0.017950266765685102)]\n"
     ]
    }
   ],
   "source": [
    "import random\n",
    "\n",
    "for i in range(20):\n",
    "    topic_id = random.choice(range(1500))\n",
    "    print 'Topic #' + str(topic_id)\n",
    "    print model.show_topic(topic_id)"
   ]
  },
  {
   "cell_type": "markdown",
   "metadata": {},
   "source": [
    "Видно, что присутсвуют как хорошо интерпретируемые темы, так и сложно. По сравнению с моделью на 100 тем - все сильно лучше :)"
   ]
  },
  {
   "cell_type": "markdown",
   "metadata": {},
   "source": [
    "### Word2Vec на Google News"
   ]
  },
  {
   "cell_type": "markdown",
   "metadata": {},
   "source": [
    "Решил посмотреть какие класстеры присутсвуют в уже обученных векторах их туториала Word2Vec. Они обучались на Google News."
   ]
  },
  {
   "cell_type": "code",
   "execution_count": 7,
   "metadata": {
    "collapsed": true
   },
   "outputs": [],
   "source": [
    "from gensim.models.word2vec import Word2Vec\n",
    "from sklearn.cluster import MiniBatchKMeans"
   ]
  },
  {
   "cell_type": "code",
   "execution_count": 8,
   "metadata": {
    "collapsed": true
   },
   "outputs": [],
   "source": [
    "model = Word2Vec.load_word2vec_format('GoogleNews-vectors-negative300.bin', binary=True)\n",
    "word_vectors = model.syn0\n",
    "n_clusters = 1000\n",
    "\n",
    "kmeans = MiniBatchKMeans(init='k-means++', n_clusters=n_clusters, n_init=3)\n",
    "idx = kmeans.fit_predict(word_vectors)\n",
    "word_idx_map = dict(zip(model.index2word, idx))\n",
    "\n",
    "clusters = []\n",
    "for cluster_id in xrange(n_clusters):\n",
    "    words = []\n",
    "    for i in xrange(len(word_idx_map.values())):\n",
    "        if (word_idx_map.values()[i] == cluster_id):\n",
    "            words.append(word_idx_map.keys()[i])\n",
    "    clusters.append(words)"
   ]
  },
  {
   "cell_type": "code",
   "execution_count": 8,
   "metadata": {
    "collapsed": false
   },
   "outputs": [
    {
     "name": "stdout",
     "output_type": "stream",
     "text": [
      "[u'Janessa', u'Crofton_Md._admitted', u'Celia', u'Alizabeth', u'Cari', u'Cara', u'Tinna', u'Hazel', u'Jina', u'Akia']\n"
     ]
    }
   ],
   "source": [
    "print clusters[112][:10]"
   ]
  },
  {
   "cell_type": "code",
   "execution_count": 9,
   "metadata": {
    "collapsed": false
   },
   "outputs": [
    {
     "name": "stdout",
     "output_type": "stream",
     "text": [
      "['Ashish_Kapur_CEO', 'Mysore_Cement', 'Sujana_Metal', 'Breweries_Holdings', 'Adani_Exports', 'Grasim_Industries_Ltd', 'Jaypee_Capital', 'IFB_Industries', 'Ashok_Leyland_Tata_Motors', 'saria']\n"
     ]
    }
   ],
   "source": [
    "print clusters[91][:10]"
   ]
  },
  {
   "cell_type": "code",
   "execution_count": 10,
   "metadata": {
    "collapsed": false
   },
   "outputs": [
    {
     "name": "stdout",
     "output_type": "stream",
     "text": [
      "['AGNs', 'neutron_stars', 'blazars', 'active_galactic_nuclei', 'X_ray_emission', 'neutron_star', 'quasars', 'supermassive_black_hole', 'galaxies', 'supermassive_black_holes']\n"
     ]
    }
   ],
   "source": [
    "print clusters[784][:10]"
   ]
  },
  {
   "cell_type": "markdown",
   "metadata": {
    "collapsed": true
   },
   "source": [
    "Я привел пример хорошо интерпретируеммых классов, но некоторые из полученных классов лично для меня сложно интерпретируемы."
   ]
  }
 ],
 "metadata": {
  "kernelspec": {
   "display_name": "Python 2",
   "language": "python",
   "name": "python2"
  },
  "language_info": {
   "codemirror_mode": {
    "name": "ipython",
    "version": 2
   },
   "file_extension": ".py",
   "mimetype": "text/x-python",
   "name": "python",
   "nbconvert_exporter": "python",
   "pygments_lexer": "ipython2",
   "version": "2.7.6"
  }
 },
 "nbformat": 4,
 "nbformat_minor": 0
}
