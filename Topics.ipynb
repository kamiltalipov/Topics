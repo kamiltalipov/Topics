{
 "cells": [
  {
   "cell_type": "markdown",
   "metadata": {},
   "source": [
    "# Выделение тем - Камиль Талипов, 294"
   ]
  },
  {
   "cell_type": "markdown",
   "metadata": {},
   "source": [
    "### LDA на Википедии"
   ]
  },
  {
   "cell_type": "code",
   "execution_count": 1,
   "metadata": {
    "collapsed": true
   },
   "outputs": [],
   "source": [
    "import numpy as np\n",
    "import gensim"
   ]
  },
  {
   "cell_type": "markdown",
   "metadata": {},
   "source": [
    "Сконвертируем дамп википедии"
   ]
  },
  {
   "cell_type": "code",
   "execution_count": 2,
   "metadata": {
    "collapsed": true
   },
   "outputs": [],
   "source": [
    "%%bash\n",
    "python -m gensim.scripts.make_wiki frwiki-20151202-pages-articles.xml.bz2 wiki_en_output"
   ]
  },
  {
   "cell_type": "markdown",
   "metadata": {},
   "source": [
    "Обучим lda"
   ]
  },
  {
   "cell_type": "code",
   "execution_count": 3,
   "metadata": {
    "collapsed": true
   },
   "outputs": [],
   "source": [
    "id2word = gensim.corpora.Dictionary.load_from_text('wiki_en_output_wordids.txt')\n",
    "mm = gensim.corpora.MmCorpus('wiki_en_output_tfidf.mm')\n",
    "model = gensim.models.ldamodel.LdaModel(corpus=mm, id2word=id2word,\n",
    "                                        num_topics=100, update_every=1,\n",
    "                                        chunksize=10000, passes=1)\n",
    "model.save('wiki_lda.pkl')"
   ]
  },
  {
   "cell_type": "markdown",
   "metadata": {
    "collapsed": true
   },
   "source": [
    "Посмотрим полученные темы"
   ]
  },
  {
   "cell_type": "code",
   "execution_count": 4,
   "metadata": {
    "collapsed": false
   },
   "outputs": [
    {
     "data": {
      "text/plain": [
       "[(u'mesa', 0.091435903139672786),\n",
       " (u'wta', 0.048343483763978227),\n",
       " (u'inde', 0.03505429249916206),\n",
       " (u'indien', 0.021937466834919761),\n",
       " (u'ha\\xefti', 0.016469230400395156),\n",
       " (u'litom\\u011b\\u0159ice', 0.015340198468797712),\n",
       " (u'sri', 0.013221911233841754),\n",
       " (u'indienne', 0.012911694302291244),\n",
       " (u'philippin', 0.011854186555764036),\n",
       " (u'lanka', 0.011731928916426626)]"
      ]
     },
     "execution_count": 4,
     "metadata": {},
     "output_type": "execute_result"
    }
   ],
   "source": [
    "model.show_topic(99)"
   ]
  },
  {
   "cell_type": "code",
   "execution_count": 5,
   "metadata": {
    "collapsed": false
   },
   "outputs": [
    {
     "data": {
      "text/plain": [
       "[(u'orchestre', 0.020230811416973832),\n",
       " (u'compositeur', 0.019726689014113279),\n",
       " (u'musique', 0.019008675927580914),\n",
       " (u'op\\xe9ra', 0.01265715301826735),\n",
       " (u'piano', 0.012491334974749227),\n",
       " (u'conservatoire', 0.0072216815558275842),\n",
       " (u'op', 0.0071809523444280538),\n",
       " (u'classique', 0.0070684881445231187),\n",
       " (u'violon', 0.0067371126627431919),\n",
       " (u'pianiste', 0.0064060435131954342)]"
      ]
     },
     "execution_count": 5,
     "metadata": {},
     "output_type": "execute_result"
    }
   ],
   "source": [
    "model.show_topic(15)"
   ]
  },
  {
   "cell_type": "code",
   "execution_count": 6,
   "metadata": {
    "collapsed": false
   },
   "outputs": [
    {
     "data": {
      "text/plain": [
       "[(u'estonie', 0.030783720653652084),\n",
       " (u'sauriens', 0.026252205772809605),\n",
       " (u'estonien', 0.020475170084009845),\n",
       " (u'tallinn', 0.018723750611277894),\n",
       " (u'squamata', 0.016204067251731645),\n",
       " (u'serpents', 0.014353648258553224),\n",
       " (u'serpent', 0.01399461533409687),\n",
       " (u'avex', 0.012898223750635131),\n",
       " (u'liolaemidae', 0.011953788568685054),\n",
       " (u'sevens', 0.011639298376036566)]"
      ]
     },
     "execution_count": 6,
     "metadata": {},
     "output_type": "execute_result"
    }
   ],
   "source": [
    "model.show_topic(60)"
   ]
  },
  {
   "cell_type": "markdown",
   "metadata": {},
   "source": [
    "Видно, что первые представители класса очень хорошо связаны логически, а в классе 15 - все совсем хорошо. Учитывая, что мы разбивали всего на 100 классов - это хороший результат."
   ]
  },
  {
   "cell_type": "markdown",
   "metadata": {},
   "source": [
    "### Word2Vec на Google News"
   ]
  },
  {
   "cell_type": "markdown",
   "metadata": {},
   "source": [
    "Решил посмотреть какие класстеры присутсвуют в уже обученных векторах их туториала Word2Vec. Они обучались на Google News."
   ]
  },
  {
   "cell_type": "code",
   "execution_count": 7,
   "metadata": {
    "collapsed": true
   },
   "outputs": [],
   "source": [
    "from gensim.models.word2vec import Word2Vec\n",
    "from sklearn.cluster import MiniBatchKMeans"
   ]
  },
  {
   "cell_type": "code",
   "execution_count": 8,
   "metadata": {
    "collapsed": true
   },
   "outputs": [],
   "source": [
    "model = Word2Vec.load_word2vec_format('GoogleNews-vectors-negative300.bin', binary=True)\n",
    "word_vectors = model.syn0\n",
    "n_clusters = 1000\n",
    "\n",
    "kmeans = MiniBatchKMeans(init='k-means++', n_clusters=n_clusters, n_init=3)\n",
    "idx = kmeans.fit_predict(word_vectors)\n",
    "word_idx_map = dict(zip(model.index2word, idx))\n",
    "\n",
    "clusters = []\n",
    "for cluster_id in xrange(n_clusters):\n",
    "    words = []\n",
    "    for i in xrange(len(word_idx_map.values())):\n",
    "        if (word_idx_map.values()[i] == cluster_id):\n",
    "            words.append(word_idx_map.keys()[i])\n",
    "    clusters.append(words)"
   ]
  },
  {
   "cell_type": "code",
   "execution_count": 8,
   "metadata": {
    "collapsed": false
   },
   "outputs": [
    {
     "name": "stdout",
     "output_type": "stream",
     "text": [
      "[u'Janessa', u'Crofton_Md._admitted', u'Celia', u'Alizabeth', u'Cari', u'Cara', u'Tinna', u'Hazel', u'Jina', u'Akia']\n"
     ]
    }
   ],
   "source": [
    "print clusters[112][:10]"
   ]
  },
  {
   "cell_type": "code",
   "execution_count": 9,
   "metadata": {
    "collapsed": false
   },
   "outputs": [
    {
     "name": "stdout",
     "output_type": "stream",
     "text": [
      "['Ashish_Kapur_CEO', 'Mysore_Cement', 'Sujana_Metal', 'Breweries_Holdings', 'Adani_Exports', 'Grasim_Industries_Ltd', 'Jaypee_Capital', 'IFB_Industries', 'Ashok_Leyland_Tata_Motors', 'saria']\n"
     ]
    }
   ],
   "source": [
    "print clusters[91][:10]"
   ]
  },
  {
   "cell_type": "code",
   "execution_count": 10,
   "metadata": {
    "collapsed": false
   },
   "outputs": [
    {
     "name": "stdout",
     "output_type": "stream",
     "text": [
      "['AGNs', 'neutron_stars', 'blazars', 'active_galactic_nuclei', 'X_ray_emission', 'neutron_star', 'quasars', 'supermassive_black_hole', 'galaxies', 'supermassive_black_holes']\n"
     ]
    }
   ],
   "source": [
    "print clusters[784][:10]"
   ]
  },
  {
   "cell_type": "markdown",
   "metadata": {
    "collapsed": true
   },
   "source": [
    "Я привел пример хорошо интерпретируеммых классов, но некоторые из полученных классов лично для меня сложно интерпретируемы."
   ]
  }
 ],
 "metadata": {
  "kernelspec": {
   "display_name": "Python 2",
   "language": "python",
   "name": "python2"
  },
  "language_info": {
   "codemirror_mode": {
    "name": "ipython",
    "version": 2
   },
   "file_extension": ".py",
   "mimetype": "text/x-python",
   "name": "python",
   "nbconvert_exporter": "python",
   "pygments_lexer": "ipython2",
   "version": "2.7.6"
  }
 },
 "nbformat": 4,
 "nbformat_minor": 0
}
